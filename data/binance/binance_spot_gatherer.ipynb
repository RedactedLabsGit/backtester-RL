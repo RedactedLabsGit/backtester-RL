{
 "cells": [
  {
   "cell_type": "code",
   "execution_count": 1,
   "metadata": {},
   "outputs": [],
   "source": [
    "import pandas as pd\n",
    "import ccxt\n",
    "from datetime import datetime, timezone\n",
    "from concurrent.futures import ThreadPoolExecutor\n"
   ]
  },
  {
   "cell_type": "code",
   "execution_count": 2,
   "metadata": {},
   "outputs": [],
   "source": [
    "async def async_fetch_ohlcv(exchange: ccxt.Exchange, symbol: str, timeframe: str, since: int, limit: int):\n",
    "    ohlcv = exchange.fetch_ohlcv(symbol=symbol, timeframe=timeframe, since=since, limit=limit)\n",
    "\n",
    "    return ohlcv\n",
    "\n",
    "def fetch_binance_ohlcv(symbole: str, timeframe: str, since: int, until: int) -> pd.DataFrame:\n",
    "    binance = ccxt.binance()\n",
    "    since_arr = [i for i in range(since, until, 1000*1000)]\n",
    "\n",
    "    with ThreadPoolExecutor() as executor:\n",
    "        all_prices = executor.map(lambda since: binance.fetch_ohlcv(symbol=symbole, timeframe=timeframe, since=since, limit=1000), since_arr)\n",
    "\n",
    "    all_prices = [price for prices in all_prices for price in prices]\n",
    "\n",
    "    return all_prices"
   ]
  },
  {
   "cell_type": "code",
   "execution_count": 3,
   "metadata": {},
   "outputs": [],
   "source": [
    "all_prices = fetch_binance_ohlcv('ETH/USDC', '1s', int(datetime(2024, 1, 1, tzinfo=timezone.utc).timestamp() * 1000), int(datetime(2024, 9, 1, tzinfo=timezone.utc).timestamp() * 1000))"
   ]
  },
  {
   "cell_type": "code",
   "execution_count": 18,
   "metadata": {},
   "outputs": [
    {
     "data": {
      "text/html": [
       "<div>\n",
       "<style scoped>\n",
       "    .dataframe tbody tr th:only-of-type {\n",
       "        vertical-align: middle;\n",
       "    }\n",
       "\n",
       "    .dataframe tbody tr th {\n",
       "        vertical-align: top;\n",
       "    }\n",
       "\n",
       "    .dataframe thead th {\n",
       "        text-align: right;\n",
       "    }\n",
       "</style>\n",
       "<table border=\"1\" class=\"dataframe\">\n",
       "  <thead>\n",
       "    <tr style=\"text-align: right;\">\n",
       "      <th></th>\n",
       "      <th>price</th>\n",
       "    </tr>\n",
       "    <tr>\n",
       "      <th>time</th>\n",
       "      <th></th>\n",
       "    </tr>\n",
       "  </thead>\n",
       "  <tbody>\n",
       "    <tr>\n",
       "      <th>1704067200</th>\n",
       "      <td>2281.57</td>\n",
       "    </tr>\n",
       "    <tr>\n",
       "      <th>1704067201</th>\n",
       "      <td>2281.57</td>\n",
       "    </tr>\n",
       "    <tr>\n",
       "      <th>1704067202</th>\n",
       "      <td>2281.57</td>\n",
       "    </tr>\n",
       "    <tr>\n",
       "      <th>1704067203</th>\n",
       "      <td>2281.65</td>\n",
       "    </tr>\n",
       "    <tr>\n",
       "      <th>1704067204</th>\n",
       "      <td>2281.65</td>\n",
       "    </tr>\n",
       "  </tbody>\n",
       "</table>\n",
       "</div>"
      ],
      "text/plain": [
       "              price\n",
       "time               \n",
       "1704067200  2281.57\n",
       "1704067201  2281.57\n",
       "1704067202  2281.57\n",
       "1704067203  2281.65\n",
       "1704067204  2281.65"
      ]
     },
     "execution_count": 18,
     "metadata": {},
     "output_type": "execute_result"
    }
   ],
   "source": [
    "df = pd.DataFrame(all_prices, columns=['time', 'open', 'high', 'low', 'close', 'volume'])\n",
    "df[\"price\"] = (df[\"open\"] + df[\"close\"]) / 2\n",
    "df[\"time\"] = df[\"time\"]//1000\n",
    "df = df.set_index('time')\n",
    "df = df.drop(columns=['open', 'high', 'low', 'close', 'volume'])\n",
    "df.head()"
   ]
  },
  {
   "cell_type": "code",
   "execution_count": 19,
   "metadata": {},
   "outputs": [],
   "source": [
    "df.to_csv('ETHUSDC-2024-01>08_1s.csv')"
   ]
  }
 ],
 "metadata": {
  "kernelspec": {
   "display_name": "base",
   "language": "python",
   "name": "python3"
  },
  "language_info": {
   "codemirror_mode": {
    "name": "ipython",
    "version": 3
   },
   "file_extension": ".py",
   "mimetype": "text/x-python",
   "name": "python",
   "nbconvert_exporter": "python",
   "pygments_lexer": "ipython3",
   "version": "3.11.7"
  }
 },
 "nbformat": 4,
 "nbformat_minor": 2
}
