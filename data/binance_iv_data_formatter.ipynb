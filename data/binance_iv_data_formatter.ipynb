{
 "cells": [
  {
   "cell_type": "code",
   "execution_count": 1,
   "metadata": {},
   "outputs": [],
   "source": [
    "import pandas as pd\n",
    "\n",
    "data_file_base = \"ETHBVOLUSDT-BVOLIndex-2024-07-\"\n",
    "number_of_files = 31\n",
    "beginning = 1"
   ]
  },
  {
   "cell_type": "code",
   "execution_count": 2,
   "metadata": {},
   "outputs": [],
   "source": [
    "df = pd.read_csv(\n",
    "    data_file_base\n",
    "    + (str(beginning) if beginning > 9 else \"0\" + str(beginning))\n",
    "    + \".csv\"\n",
    ")\n",
    "for i in range(beginning + 1, beginning + number_of_files):\n",
    "    df = pd.concat(\n",
    "        [df, pd.read_csv(data_file_base + (str(i) if i > 9 else \"0\" + str(i)) + \".csv\")]\n",
    "    )"
   ]
  },
  {
   "cell_type": "code",
   "execution_count": 3,
   "metadata": {},
   "outputs": [],
   "source": [
    "df.drop([\"symbol\", \"base_asset\", \"quote_asset\"], inplace=True, axis=1)\n",
    "df.rename(columns={\"calc_time\": \"time\", \"index_value\": \"bvol\"}, inplace=True)\n",
    "df[\"time\"] = df[\"time\"].apply(lambda x: x // 1000)"
   ]
  },
  {
   "cell_type": "code",
   "execution_count": 4,
   "metadata": {},
   "outputs": [],
   "source": [
    "df.to_csv(f\"{data_file_base}{beginning}>{beginning+number_of_files-1}.csv\", index=False)"
   ]
  },
  {
   "cell_type": "code",
   "execution_count": null,
   "metadata": {},
   "outputs": [],
   "source": []
  }
 ],
 "metadata": {
  "kernelspec": {
   "display_name": "base",
   "language": "python",
   "name": "python3"
  },
  "language_info": {
   "codemirror_mode": {
    "name": "ipython",
    "version": 3
   },
   "file_extension": ".py",
   "mimetype": "text/x-python",
   "name": "python",
   "nbconvert_exporter": "python",
   "pygments_lexer": "ipython3",
   "version": "3.11.7"
  }
 },
 "nbformat": 4,
 "nbformat_minor": 2
}
