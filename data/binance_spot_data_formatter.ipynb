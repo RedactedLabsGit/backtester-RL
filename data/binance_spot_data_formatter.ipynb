{
 "cells": [
  {
   "cell_type": "code",
   "execution_count": 8,
   "metadata": {},
   "outputs": [],
   "source": [
    "import pandas as pd\n",
    "\n",
    "df = pd.read_csv('BTCUSDC-1s-2024-07.csv', names=['open_time', \"open\", \"high\", \"low\", \"close\", \"volume\", \"close_time\", \"quote_volume\", \"count\", \"taker_buy_volume\", \"taker_buy_quote_volume\", \"ignore\"])"
   ]
  },
  {
   "cell_type": "code",
   "execution_count": null,
   "metadata": {},
   "outputs": [],
   "source": [
    "df"
   ]
  },
  {
   "cell_type": "code",
   "execution_count": 9,
   "metadata": {},
   "outputs": [],
   "source": [
    "df.drop([\"high\", \"low\", \"close\", \"volume\", \"close_time\", \"quote_volume\", \"count\", \"taker_buy_volume\", \"taker_buy_quote_volume\", \"ignore\"], axis=1, inplace=True)\n",
    "df.rename(columns={\"open_time\": \"time\", \"open\": \"price\"}, inplace=True)\n",
    "df[\"time\"] = df[\"time\"].apply(lambda x: x // 1000)\n"
   ]
  },
  {
   "cell_type": "code",
   "execution_count": null,
   "metadata": {},
   "outputs": [],
   "source": [
    "df"
   ]
  },
  {
   "cell_type": "code",
   "execution_count": 10,
   "metadata": {},
   "outputs": [],
   "source": [
    "df.to_csv('BTCUSDC-1s-2024-07-clean.csv', index=False)"
   ]
  },
  {
   "cell_type": "markdown",
   "metadata": {},
   "source": [
    "# To merge multiple df:"
   ]
  },
  {
   "cell_type": "code",
   "execution_count": 11,
   "metadata": {},
   "outputs": [],
   "source": [
    "# DF will be mergeged following the order of the list\n",
    "file_names = [\n",
    "    'BTCUSDC-1s-2024-05-clean.csv',\n",
    "    'BTCUSDC-1s-2024-06-clean.csv',\n",
    "    'BTCUSDC-1s-2024-07-clean.csv',\n",
    "    'BTCUSDC-1s-2024-08-clean.csv',\n",
    "]\n",
    "output_file_name = 'BTCUSDC-1s-2024-05>08-clean.csv'"
   ]
  },
  {
   "cell_type": "code",
   "execution_count": 12,
   "metadata": {},
   "outputs": [],
   "source": [
    "dfs = [pd.read_csv(file_name) for file_name in file_names]\n",
    "df = pd.concat(dfs)\n",
    "df.to_csv(output_file_name, index=False)"
   ]
  },
  {
   "cell_type": "code",
   "execution_count": null,
   "metadata": {},
   "outputs": [],
   "source": []
  }
 ],
 "metadata": {
  "kernelspec": {
   "display_name": "base",
   "language": "python",
   "name": "python3"
  },
  "language_info": {
   "codemirror_mode": {
    "name": "ipython",
    "version": 3
   },
   "file_extension": ".py",
   "mimetype": "text/x-python",
   "name": "python",
   "nbconvert_exporter": "python",
   "pygments_lexer": "ipython3",
   "version": "3.11.7"
  }
 },
 "nbformat": 4,
 "nbformat_minor": 2
}
