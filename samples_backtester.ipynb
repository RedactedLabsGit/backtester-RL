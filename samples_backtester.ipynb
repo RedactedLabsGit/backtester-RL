{
 "cells": [
  {
   "cell_type": "markdown",
   "metadata": {},
   "source": [
    "# Mangrove Kandel Backtester - Samples\n"
   ]
  },
  {
   "cell_type": "markdown",
   "metadata": {},
   "source": [
    "## Engine\n"
   ]
  },
  {
   "cell_type": "markdown",
   "metadata": {},
   "source": [
    "### 0. Imports\n"
   ]
  },
  {
   "cell_type": "code",
   "execution_count": 1,
   "metadata": {},
   "outputs": [],
   "source": [
    "import math\n",
    "import json\n",
    "import numpy as np\n",
    "import pandas as pd\n",
    "\n",
    "from src.kandel_backtester import KandelBacktester"
   ]
  },
  {
   "cell_type": "code",
   "execution_count": 2,
   "metadata": {},
   "outputs": [],
   "source": [
    "with open(\"config.json\") as f:\n",
    "    config = json.load(f)\n",
    "\n",
    "\n",
    "window = config[\"window\"]\n",
    "quote = config[\"quote\"]\n",
    "base = config[\"base\"]\n",
    "vol_mult = config[\"vol_mult\"]\n",
    "n_points = config[\"n_points\"]\n",
    "step_size = config[\"step_size\"]\n",
    "vol_threshold_window = config[\"vol_threshold_window\"]\n",
    "samples_length = config[\"samples_length\"]\n",
    "\n",
    "del config"
   ]
  },
  {
   "cell_type": "markdown",
   "metadata": {},
   "source": [
    "### 1. Preprocessing\n"
   ]
  },
  {
   "cell_type": "markdown",
   "metadata": {},
   "source": [
    "#### Load data\n"
   ]
  },
  {
   "cell_type": "code",
   "execution_count": 3,
   "metadata": {},
   "outputs": [],
   "source": [
    "prices_df = pd.read_csv(\"data/binance/ETHUSDC-2024-01>08_1s.csv\", header=0, index_col=0)\n",
    "prices_df.index = pd.to_datetime(prices_df.index, unit=\"s\", utc=True)"
   ]
  },
  {
   "cell_type": "code",
   "execution_count": 4,
   "metadata": {},
   "outputs": [],
   "source": [
    "prices_df[\"daily_log_return\"] = np.log(prices_df[\"price\"] / prices_df[\"price\"].shift(1))\n",
    "prices_df[\"vol\"] = (\n",
    "    prices_df[\"daily_log_return\"].rolling(vol_threshold_window * 3600).std() * np.sqrt(vol_threshold_window*3600)\n",
    ")\n",
    "prices_df[\"vol\"] = prices_df[\"vol\"].fillna(0)\n",
    "\n",
    "prices_df = prices_df.drop(columns=[\"daily_log_return\"])"
   ]
  },
  {
   "cell_type": "markdown",
   "metadata": {},
   "source": [
    "#### Create samples\n"
   ]
  },
  {
   "cell_type": "code",
   "execution_count": 5,
   "metadata": {},
   "outputs": [],
   "source": [
    "samples_length_s = (samples_length * 24 + window) * 3600\n",
    "\n",
    "# Remove days used for volatility calculation\n",
    "prices_df_trimmed = prices_df.iloc[(vol_threshold_window + window) * 3600 :]\n",
    "\n",
    "prices_splitted = []\n",
    "vol_splitted = []\n",
    "\n",
    "for i in range(samples_length + math.ceil(window / 24)):\n",
    "    prices_splitted += [\n",
    "        prices_df_trimmed[\"price\"][j : j + samples_length_s]\n",
    "        for j in range(i * 3600 * 24, len(prices_df_trimmed[\"price\"]), samples_length_s)\n",
    "    ][:-1]\n",
    "    vol_splitted += [\n",
    "        prices_df_trimmed[\"vol\"][j : j + samples_length_s]\n",
    "        for j in range(i * 3600 * 24, len(prices_df_trimmed[\"vol\"]), samples_length_s)\n",
    "    ][:-1]\n",
    "\n",
    "del prices_df_trimmed"
   ]
  },
  {
   "cell_type": "markdown",
   "metadata": {},
   "source": [
    "### 2. Run backtester"
   ]
  },
  {
   "cell_type": "code",
   "execution_count": 6,
   "metadata": {},
   "outputs": [
    {
     "name": "stderr",
     "output_type": "stream",
     "text": [
      "/var/folders/kn/wgl1sqns1bxgynxc599_5y9c0000gp/T/ipykernel_30528/500993707.py:13: FutureWarning: Series.__getitem__ treating keys as positions is deprecated. In a future version, integer keys will always be treated as labels (consistent with DataFrame behavior). To access a value by position, use `ser.iloc[pos]`\n",
      "  spot_price=prices_splitted[0][0],\n",
      "/var/folders/kn/wgl1sqns1bxgynxc599_5y9c0000gp/T/ipykernel_30528/500993707.py:14: FutureWarning: Series.__getitem__ treating keys as positions is deprecated. In a future version, integer keys will always be treated as labels (consistent with DataFrame behavior). To access a value by position, use `ser.iloc[pos]`\n",
      "  vol=vol_splitted[0][0],\n"
     ]
    },
    {
     "ename": "KeyError",
     "evalue": "'initial_quote'",
     "output_type": "error",
     "traceback": [
      "\u001b[0;31m---------------------------------------------------------------------------\u001b[0m",
      "\u001b[0;31mKeyError\u001b[0m                                  Traceback (most recent call last)",
      "Cell \u001b[0;32mIn[6], line 3\u001b[0m\n\u001b[1;32m      1\u001b[0m \u001b[38;5;28;01mfrom\u001b[39;00m \u001b[38;5;21;01msrc\u001b[39;00m\u001b[38;5;21;01m.\u001b[39;00m\u001b[38;5;21;01mkandel_v2\u001b[39;00m \u001b[38;5;28;01mimport\u001b[39;00m Kandel, KandelConfig\n\u001b[0;32m----> 3\u001b[0m kandel \u001b[38;5;241m=\u001b[39m Kandel(\n\u001b[1;32m      4\u001b[0m     config\u001b[38;5;241m=\u001b[39mKandelConfig(\n\u001b[1;32m      5\u001b[0m         window\u001b[38;5;241m=\u001b[39mwindow,\n\u001b[1;32m      6\u001b[0m         quote\u001b[38;5;241m=\u001b[39mquote,\n\u001b[1;32m      7\u001b[0m         base\u001b[38;5;241m=\u001b[39mbase,\n\u001b[1;32m      8\u001b[0m         vol_mult\u001b[38;5;241m=\u001b[39mvol_mult,\n\u001b[1;32m      9\u001b[0m         n_points\u001b[38;5;241m=\u001b[39mn_points,\n\u001b[1;32m     10\u001b[0m         step_size\u001b[38;5;241m=\u001b[39mstep_size,\n\u001b[1;32m     11\u001b[0m         vol_threshold_window\u001b[38;5;241m=\u001b[39mvol_threshold_window,\n\u001b[1;32m     12\u001b[0m     ),\n\u001b[1;32m     13\u001b[0m     spot_price\u001b[38;5;241m=\u001b[39mprices_splitted[\u001b[38;5;241m0\u001b[39m][\u001b[38;5;241m0\u001b[39m],\n\u001b[1;32m     14\u001b[0m     vol\u001b[38;5;241m=\u001b[39mvol_splitted[\u001b[38;5;241m0\u001b[39m][\u001b[38;5;241m0\u001b[39m],\n\u001b[1;32m     15\u001b[0m )\n",
      "File \u001b[0;32m~/Documents/LP/mangrove-kandel-backtester/src/kandel_v2.py:53\u001b[0m, in \u001b[0;36mKandel.__init__\u001b[0;34m(self, config, spot_price, vol)\u001b[0m\n\u001b[1;32m     50\u001b[0m \u001b[38;5;28mself\u001b[39m\u001b[38;5;241m.\u001b[39mspot_price \u001b[38;5;241m=\u001b[39m spot_price\n\u001b[1;32m     51\u001b[0m \u001b[38;5;28mself\u001b[39m\u001b[38;5;241m.\u001b[39mvol \u001b[38;5;241m=\u001b[39m vol\n\u001b[1;32m     52\u001b[0m \u001b[38;5;28mself\u001b[39m\u001b[38;5;241m.\u001b[39morder_book \u001b[38;5;241m=\u001b[39m build_book(\n\u001b[0;32m---> 53\u001b[0m     capital\u001b[38;5;241m=\u001b[39mconfig[\u001b[38;5;124m\"\u001b[39m\u001b[38;5;124minitial_quote\u001b[39m\u001b[38;5;124m\"\u001b[39m] \u001b[38;5;241m+\u001b[39m config[\u001b[38;5;124m\"\u001b[39m\u001b[38;5;124minitial_base\u001b[39m\u001b[38;5;124m\"\u001b[39m] \u001b[38;5;241m*\u001b[39m spot_price,\n\u001b[1;32m     54\u001b[0m     price_grid\u001b[38;5;241m=\u001b[39m\u001b[38;5;28mself\u001b[39m\u001b[38;5;241m.\u001b[39mcompute_price_grid(),\n\u001b[1;32m     55\u001b[0m     initial_price\u001b[38;5;241m=\u001b[39mspot_price,\n\u001b[1;32m     56\u001b[0m )\n",
      "\u001b[0;31mKeyError\u001b[0m: 'initial_quote'"
     ]
    }
   ],
   "source": [
    "from src.kandel_v2 import Kandel, KandelConfig\n",
    "\n",
    "kandel = Kandel(\n",
    "    config=KandelConfig(\n",
    "        window=window,\n",
    "        initial_quote=quote,\n",
    "        initial_base=base,\n",
    "        vol_mult=vol_mult,\n",
    "        n_points=n_points,\n",
    "        step_size=step_size,\n",
    "        vol_threshold_window=vol_threshold_window,\n",
    "    ),\n",
    "    spot_price=prices_splitted[0][0],\n",
    "    vol=vol_splitted[0][0],\n",
    ")"
   ]
  },
  {
   "cell_type": "code",
   "execution_count": null,
   "metadata": {},
   "outputs": [],
   "source": []
  }
 ],
 "metadata": {
  "kernelspec": {
   "display_name": "base",
   "language": "python",
   "name": "python3"
  },
  "language_info": {
   "codemirror_mode": {
    "name": "ipython",
    "version": 3
   },
   "file_extension": ".py",
   "mimetype": "text/x-python",
   "name": "python",
   "nbconvert_exporter": "python",
   "pygments_lexer": "ipython3",
   "version": "3.11.7"
  }
 },
 "nbformat": 4,
 "nbformat_minor": 2
}
