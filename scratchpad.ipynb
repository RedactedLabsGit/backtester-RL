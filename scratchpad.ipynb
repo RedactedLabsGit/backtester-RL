{
 "cells": [
  {
   "cell_type": "code",
   "execution_count": 6,
   "metadata": {},
   "outputs": [],
   "source": [
    "import pandas as pd\n",
    "import numpy as np\n",
    "import sys\n",
    "sys.path.append('/Users/sva21/Documents/mangrove/code/backtester-RL/')"
   ]
  },
  {
   "cell_type": "markdown",
   "metadata": {},
   "source": [
    "## Orders"
   ]
  },
  {
   "cell_type": "code",
   "execution_count": 1,
   "metadata": {},
   "outputs": [],
   "source": [
    "import src.order"
   ]
  },
  {
   "cell_type": "code",
   "execution_count": 2,
   "metadata": {},
   "outputs": [],
   "source": [
    "order_type = 'bid'\n",
    "\n",
    "qty_b1 = 100\n",
    "price_b1 = 99\n",
    "bid1 = src.order.Order(order_type, qty_b1, price_b1)\n",
    "\n",
    "qty_b2 = 10\n",
    "price_b2 = 98\n",
    "bid2 = src.order.Order(order_type, qty_b2, price_b2)\n",
    "\n",
    "order_type = 'ask'\n",
    "\n",
    "qty_a1 = 100\n",
    "price_a1 = 101\n",
    "ask1 = src.order.Order(order_type, qty_a1, price_a1)\n",
    "\n",
    "qty_a2 = 10\n",
    "price_a2 = 102\n",
    "ask2 = src.order.Order(order_type, qty_a2, price_a2)\n"
   ]
  },
  {
   "cell_type": "markdown",
   "metadata": {},
   "source": [
    "## Order Book"
   ]
  },
  {
   "cell_type": "code",
   "execution_count": 3,
   "metadata": {},
   "outputs": [
    {
     "name": "stdout",
     "output_type": "stream",
     "text": [
      "┌─────────┬────────┬─────────┬─────────┐\n",
      "│   Index │   Size │   Price │   Total │\n",
      "├─────────┼────────┼─────────┼─────────┤\n",
      "│       0 │     \u001b[31m10\u001b[0m │     \u001b[31m102\u001b[0m │    \u001b[31m1020\u001b[0m │\n",
      "│       1 │    \u001b[31m100\u001b[0m │     \u001b[31m101\u001b[0m │   \u001b[31m10100\u001b[0m │\n",
      "│       2 │    \u001b[32m100\u001b[0m │      \u001b[32m99\u001b[0m │    \u001b[32m9900\u001b[0m │\n",
      "│       3 │     \u001b[32m10\u001b[0m │      \u001b[32m98\u001b[0m │     \u001b[32m980\u001b[0m │\n",
      "└─────────┴────────┴─────────┴─────────┘\n"
     ]
    }
   ],
   "source": [
    "from src.order_book import OrderBook\n",
    "orderbook = OrderBook([bid1, bid2], [ask1, ask2])\n",
    "print(orderbook)"
   ]
  },
  {
   "cell_type": "markdown",
   "metadata": {},
   "source": [
    "## Main Script\n"
   ]
  },
  {
   "cell_type": "code",
   "execution_count": 10,
   "metadata": {},
   "outputs": [],
   "source": [
    "from src.kandel import kandel_simulator\n",
    "from src.time_series import load_csv\n",
    "import pandas as pd\n",
    "from src.time_series import get_timedelta_unit\n"
   ]
  },
  {
   "cell_type": "code",
   "execution_count": 11,
   "metadata": {},
   "outputs": [],
   "source": [
    "ts = load_csv('data/ETHUSDC-1s-2024-09-15.csv')"
   ]
  },
  {
   "cell_type": "code",
   "execution_count": 13,
   "metadata": {},
   "outputs": [],
   "source": [
    "window = 3600\n",
    "quote = 75000\n",
    "base = 0\n",
    "vol_mult = 0.4\n",
    "n_points = 10\n",
    "step_size = 1\n",
    "order_book = OrderBook()\n",
    "transactions, res, order_book = kandel_simulator(ts = ts, \n",
    "            quote = quote,\n",
    "            base = base, \n",
    "            vol_mult=vol_mult,\n",
    "            n_points= n_points, \n",
    "            step_size=step_size,\n",
    "            order_book= order_book,\n",
    "            window= window)\n",
    "res.to_pandas().to_csv('results/simul_results.csv')"
   ]
  },
  {
   "cell_type": "code",
   "execution_count": 6,
   "metadata": {},
   "outputs": [
    {
     "data": {
      "text/plain": [
       "3600"
      ]
     },
     "execution_count": 6,
     "metadata": {},
     "output_type": "execute_result"
    }
   ],
   "source": [
    "60*60"
   ]
  },
  {
   "cell_type": "code",
   "execution_count": null,
   "metadata": {},
   "outputs": [],
   "source": []
  }
 ],
 "metadata": {
  "kernelspec": {
   "display_name": ".venv",
   "language": "python",
   "name": "python3"
  },
  "language_info": {
   "codemirror_mode": {
    "name": "ipython",
    "version": 3
   },
   "file_extension": ".py",
   "mimetype": "text/x-python",
   "name": "python",
   "nbconvert_exporter": "python",
   "pygments_lexer": "ipython3",
   "version": "3.12.2"
  }
 },
 "nbformat": 4,
 "nbformat_minor": 2
}
